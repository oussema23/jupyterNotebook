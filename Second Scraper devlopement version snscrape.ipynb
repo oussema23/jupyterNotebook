{
 "cells": [
  {
   "cell_type": "code",
   "execution_count": 2,
   "id": "d4d2f4a3",
   "metadata": {},
   "outputs": [],
   "source": [
    "import snscrape.modules.twitter  as twitterScraper \n",
    "import snscrape.modules.instagram as instaScraper "
   ]
  },
  {
   "cell_type": "code",
   "execution_count": 3,
   "id": "ff887a82",
   "metadata": {},
   "outputs": [
    {
     "name": "stdout",
     "output_type": "stream",
     "text": [
      "0 content : Line wrapped around the building on opening day?! I’m so proud of this team! First franchised location EVER. We are now in Miamisburg, OH 👊🏿 can you dig it? @BigChickenShaq https://t.co/UKGoyeIlaS\n",
      "1 content : At Steady, we’re in the business of you. Earn cash to put gas in the car, food on the table, and more money in your pocket. Find more ways to boost your cash flow. Download the free Steady app today! 📲 https://t.co/P8yNJjBbOK https://t.co/Q3JShkvUUn\n",
      "2 content : Good luck boys @NRGgg! Me and @thegeneralauto are rooting for you. Bring home the W. https://t.co/4mS7cYqMv2\n",
      "3 content : https://t.co/xlXggrUFiv\n",
      "4 content : Throwback https://t.co/MwKvI3oCjo\n",
      "5 content : @FerrieraMel @MagicEden There’s no point in picking a side anymore. Everyone needs to stop tearing eachother down\n",
      "6 content : @MagicEden And people wonder why I took .Sol out my name.\n",
      "7 content : @OriginalsDAO @Astrals_NFT This pic captures the whole mood for that whole day. All love\n",
      "8 content : @SSJreef @icyhot Love you boy\n",
      "9 content : Thank you for paving the way. You will be missed legend. @RealBillRussell https://t.co/obvwkMDCCc\n",
      "10 content : @Danimal1621 This is when attitude is most important\n"
     ]
    }
   ],
   "source": [
    "scraper = twitterScraper.TwitterUserScraper(\"SHAQ\" , False)\n",
    "\n",
    "for i , tweet in enumerate(scraper.get_items()):\n",
    "    if i > 10 :\n",
    "        break\n",
    "    print(f\"{i} content : {tweet.content}\")\n",
    "    "
   ]
  },
  {
   "cell_type": "code",
   "execution_count": 4,
   "id": "6922002a",
   "metadata": {},
   "outputs": [
    {
     "name": "stdout",
     "output_type": "stream",
     "text": [
      "0 content : FIBA WC dress rehearsal… \n",
      "\n",
      "Wear red. https://t.co/7u5uaqdrf2\n",
      "1 content : Fellow @Jumpman23 brand athlete and Mavericks teammate @T_HardJR catching that Luka 1 🌊 \n",
      "\n",
      "📸 timmyjr10 / IG https://t.co/HW3zqUyDaO\n",
      "2 content : @AtomsBomb41 May have to come out of retirement 🎨\n",
      "3 content : @jayval41 W!!\n",
      "4 content : @SLAMKicks With a signature shoe coming out and a top 5 ⭐️ in the league, @luka7doncic has got to be one 👀\n",
      "5 content : @Tio2ksIover @Jumpman23 Laser Blue\n",
      "6 content : @jtjones999 @Jumpman23 Via @Nike : https://t.co/gb5fcmFPzg\n",
      "7 content : @jaythru_ @Jumpman23 Indeed\n",
      "8 content : The glowing sole can also be found in the sneakers that make up the “Cosmic Deception” pack. https://t.co/OxL5KaCIY6\n",
      "9 content : If you didn’t know, now you know.\n",
      "\n",
      "Jordan 36 Low “Luka”\n",
      "\n",
      "🧪🧪🧪🧪🧪🧪🧪 https://t.co/xOBo4riedP\n",
      "10 content : @ksimeon7 @luka7doncic Houston huh? Love to see it. Thanks for sending Kevin 🤜🤛\n"
     ]
    }
   ],
   "source": [
    "scraper = twitterScraper.TwitterUserScraper(\"LukaDonkicks\" , False)\n",
    "\n",
    "for i , tweet in enumerate(scraper.get_items()):\n",
    "    if i > 10 :\n",
    "        break\n",
    "    print(f\"{i} content : {tweet.content}\")"
   ]
  },
  {
   "cell_type": "code",
   "execution_count": 5,
   "id": "56abac66",
   "metadata": {},
   "outputs": [
    {
     "name": "stdout",
     "output_type": "stream",
     "text": [
      "0 content : Hi Guys! Join me for an exclusive tour inside my @SKKN headquarters. You’ve been asking for this video for a long time and I am so excited to finally be able to share with you where my team and I work from. Watch the full video on my YouTube channel now. https://t.co/GxcrB80cw3 https://t.co/CksWeEKE0F\n",
      "1 content : 🤣🤣 damn needed that 818  https://t.co/nhDaK873lc\n",
      "2 content : ✨ https://t.co/hGSyrupQEx\n",
      "3 content : 😂🎧🥚 https://t.co/btTZ7Oa3tV\n",
      "4 content : Happy birthday @kyliejenner I love you so much!!! Forever and Ever!!! https://t.co/ibTXJUX2Ii\n",
      "5 content : Happy Birthday @KylieJenner party gal (in LaLa’s voice this whole trip lol)\n",
      "Every year u amaze me at how wise, protective of your loved ones &amp; just how generous your heart is. U are so special &amp; one of one. U have so much love &amp; happiness in your love that I pray for this forever https://t.co/hAgCvoknPJ\n",
      "6 content : I’m so excited to share Beats Fit Pro by @beatsbydre will be coming soon in 3 signature neutrals, designed by me! Can’t wait for you to try them out on 8/16 🤎 https://t.co/lFLAKbZaLE\n",
      "7 content : 🎧 @beatsbydre https://t.co/nc58QKrb9I\n",
      "8 content : Shop my new items on my #KardashianKloset! https://t.co/fTHv96YJsu\n",
      "9 content : YR 3022 YEEZY SHDZ https://t.co/f8Ztg3bUX6\n",
      "10 content : YR 3022 YEEZY SHDZ https://t.co/ShSHtdGDZw\n",
      "11 content : YR 3022 YEEZY SHDZ https://t.co/4BjJsPJFQH\n",
      "12 content : Meet me on a private island in my game! Play @KKHOfficial to see all my favorite swimwear and style your favorite looks! https://t.co/DT9yMqx4h5 https://t.co/hTpbSNW2vL\n",
      "13 content : 🦇 https://t.co/5WeOAT8Zdy\n",
      "14 content : https://t.co/CDd7cuBWja\n",
      "15 content : NORTH SKETCHES FOR YEEZY https://t.co/iS6Bfs5AFG\n",
      "16 content : YR 3022 YEEZY SHDZ https://t.co/hC8Ck1HAq3\n",
      "17 content : YR 3022 YEEZY SHDZ https://t.co/PC8GwFfaOa\n",
      "18 content : Happy 88th Birthday to the Queen MJ!  I love you so much grandma and so so so lucky to have you to up to look up to https://t.co/fZTvvxf0rC\n",
      "19 content : Brighten, hydrate, and glow with the @SKKN Oil Drops 💧 https://t.co/bINXTAy3T1\n",
      "20 content : Brighten, hydrate, and glow with the @SKKN Oil Drops 💧 https://t.co/zgnqniECCn\n",
      "21 content : Take a picture, it lasts longer https://t.co/r4LWanufAf\n",
      "22 content : Shop my sale items at #KardashianKloset https://t.co/fTHv96YJsu\n",
      "23 content : #FreeGunna\n",
      "\n",
      "🆓🅿️\n",
      "24 content : Last Nite Bedtime https://t.co/KJGdOgJG2d\n",
      "25 content : Last Nite Bedtime https://t.co/SVDUFPSGJi\n",
      "26 content : It’s a party let’s go!! @ciara 😜😘 https://t.co/deJlgvxqr3\n",
      "27 content : New @skims Soft Smoothing Seamless campaign and fashion show styled by Carine Roitfeld. Just dropped at https://t.co/UZaWDHozSo https://t.co/n0Gn4IhSsz\n",
      "28 content : after party 🎞💣 https://t.co/woGrgWU1zU\n",
      "29 content : after party 🎞💣 https://t.co/QQTYLXnyTb\n",
      "30 content : Samurai ⚔️ https://t.co/VHCISxx8fc\n",
      "31 content : Just added new items to my #KardashianKloset 👜 Check them out now https://t.co/fTHv96YJsu\n",
      "32 content : LIFE https://t.co/v8Ci6PCa1k\n",
      "33 content : LIFE https://t.co/tJl3u0LnjW\n",
      "34 content : LIFE https://t.co/tTAtu3EH5f\n",
      "35 content : LIFE https://t.co/RU8BrU8R8H\n",
      "36 content : 😂✨ https://t.co/IuysR0Gx2W\n",
      "37 content : Here’s an exclusive first look at season 2 of @kardashianshulu to hold you over until September 22 on @hulu, Disney+ internationally and Star+ in Latin America. #TheKardashians https://t.co/HVfVMbfkUO\n",
      "38 content : Khloé’s Bday Trip https://t.co/GeplzkFxgW\n",
      "39 content : The @SKKN Eye Cream is back in stock. The wait is over. Get this de-puffing peptide eye complex before it sells out again. https://t.co/vs629k5ZZl https://t.co/5Qqe8QLznF\n",
      "40 content : 🇫🇷 https://t.co/9EFd2C3HIk\n",
      "41 content : 🇫🇷 https://t.co/wViEv9TaNW\n",
      "42 content : 🇫🇷 https://t.co/1cWADHuQUg\n",
      "43 content : 🇫🇷 https://t.co/xxkplE0ofL\n",
      "44 content : 🇫🇷 https://t.co/j0qkOa4ROH\n",
      "45 content : 🇫🇷 https://t.co/3eE2swFFOy\n",
      "46 content : For anyone who knows North knows how funny she finds this video! North I guess had it with the people taking pictures of her so she wrote on her invite STOP and held it up and wanted them to just focus on the show… 😂🫶🏼🫣 https://t.co/29F26ooy8A\n",
      "47 content : As a mom I’m so grateful that my daughter loves coming with me on my work trips and I am able to bring her and create these memories together along with my mom. https://t.co/jUJTKo09jV\n",
      "48 content : JEAN PAUL GAULTIER COUTURE SHOW ~ So proud of my sweet friend @ORousteing for designing this couture collection for @JPGaultier I couldn’t be more proud! https://t.co/kEwzzAQi0k\n",
      "49 content : After Party VIBEZ 🖤 @BALENCIAGA https://t.co/JSuZgPIeqF\n",
      "50 content : BALENCIAGA HAUTE COUTURE SHOW! https://t.co/4IDbT0fzqd\n"
     ]
    }
   ],
   "source": [
    "scraper = twitterScraper.TwitterUserScraper(\"KimKardashian\" , False)\n",
    "\n",
    "for i , tweet in enumerate(scraper.get_items()):\n",
    "    if i > 50 :\n",
    "        break\n",
    "    print(f\"{i} content : {tweet.content}\")"
   ]
  },
  {
   "cell_type": "code",
   "execution_count": null,
   "id": "a423e3ba",
   "metadata": {},
   "outputs": [],
   "source": []
  },
  {
   "cell_type": "code",
   "execution_count": null,
   "id": "111e1adc",
   "metadata": {},
   "outputs": [],
   "source": []
  }
 ],
 "metadata": {
  "kernelspec": {
   "display_name": "Python 3 (ipykernel)",
   "language": "python",
   "name": "python3"
  },
  "language_info": {
   "codemirror_mode": {
    "name": "ipython",
    "version": 3
   },
   "file_extension": ".py",
   "mimetype": "text/x-python",
   "name": "python",
   "nbconvert_exporter": "python",
   "pygments_lexer": "ipython3",
   "version": "3.9.12"
  }
 },
 "nbformat": 4,
 "nbformat_minor": 5
}
